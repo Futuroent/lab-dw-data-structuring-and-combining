{
 "cells": [
  {
   "cell_type": "markdown",
   "id": "25d7736c-ba17-4aff-b6bb-66eba20fbf4e",
   "metadata": {
    "id": "25d7736c-ba17-4aff-b6bb-66eba20fbf4e"
   },
   "source": [
    "# Lab | Data Structuring and Combining Data"
   ]
  },
  {
   "cell_type": "markdown",
   "id": "a2cdfc70-44c8-478c-81e7-2bc43fdf4986",
   "metadata": {
    "id": "a2cdfc70-44c8-478c-81e7-2bc43fdf4986"
   },
   "source": [
    "## Challenge 1: Combining & Cleaning Data\n",
    "\n",
    "In this challenge, we will be working with the customer data from an insurance company, as we did in the two previous labs. The data can be found here:\n",
    "- https://raw.githubusercontent.com/data-bootcamp-v4/data/main/file1.csv\n",
    "\n",
    "But this time, we got new data, which can be found in the following 2 CSV files located at the links below.\n",
    "\n",
    "- https://raw.githubusercontent.com/data-bootcamp-v4/data/main/file2.csv\n",
    "- https://raw.githubusercontent.com/data-bootcamp-v4/data/main/file3.csv\n",
    "\n",
    "Note that you'll need to clean and format the new data.\n",
    "\n",
    "Observation:\n",
    "- One option is to first combine the three datasets and then apply the cleaning function to the new combined dataset\n",
    "- Another option would be to read the clean file you saved in the previous lab, and just clean the two new files and concatenate the three clean datasets"
   ]
  },
  {
   "cell_type": "code",
   "execution_count": 21,
   "id": "492d06e3-92c7-4105-ac72-536db98d3244",
   "metadata": {
    "id": "492d06e3-92c7-4105-ac72-536db98d3244"
   },
   "outputs": [
    {
     "name": "stdout",
     "output_type": "stream",
     "text": [
      "First few rows of file1:\n",
      "  Customer          ST GENDER             Education Customer Lifetime Value  \\\n",
      "0  RB50392  Washington    NaN                Master                     NaN   \n",
      "1  QZ44356     Arizona      F              Bachelor              697953.59%   \n",
      "2  AI49188      Nevada      F              Bachelor             1288743.17%   \n",
      "3  WW63253  California      M              Bachelor              764586.18%   \n",
      "4  GA49547  Washington      M  High School or Below              536307.65%   \n",
      "\n",
      "    Income  Monthly Premium Auto Number of Open Complaints     Policy Type  \\\n",
      "0      0.0                1000.0                    1/0/00   Personal Auto   \n",
      "1      0.0                  94.0                    1/0/00   Personal Auto   \n",
      "2  48767.0                 108.0                    1/0/00   Personal Auto   \n",
      "3      0.0                 106.0                    1/0/00  Corporate Auto   \n",
      "4  36357.0                  68.0                    1/0/00   Personal Auto   \n",
      "\n",
      "   Vehicle Class  Total Claim Amount  \n",
      "0  Four-Door Car            2.704934  \n",
      "1  Four-Door Car         1131.464935  \n",
      "2   Two-Door Car          566.472247  \n",
      "3            SUV          529.881344  \n",
      "4  Four-Door Car           17.269323  \n",
      "\n",
      "First few rows of file2:\n",
      "  Customer          ST GENDER Education Customer Lifetime Value  Income  \\\n",
      "0  GS98873     Arizona      F  Bachelor              323912.47%   16061   \n",
      "1  CW49887  California      F    Master              462680.11%   79487   \n",
      "2  MY31220  California      F   College              899704.02%   54230   \n",
      "3  UH35128      Oregon      F   College             2580706.30%   71210   \n",
      "4  WH52799     Arizona      F   College              380812.21%   94903   \n",
      "\n",
      "   Monthly Premium Auto Number of Open Complaints  Total Claim Amount  \\\n",
      "0                    88                    1/0/00               633.6   \n",
      "1                   114                    1/0/00               547.2   \n",
      "2                   112                    1/0/00               537.6   \n",
      "3                   214                    1/1/00              1027.2   \n",
      "4                    94                    1/0/00               451.2   \n",
      "\n",
      "      Policy Type  Vehicle Class  \n",
      "0   Personal Auto  Four-Door Car  \n",
      "1    Special Auto            SUV  \n",
      "2   Personal Auto   Two-Door Car  \n",
      "3   Personal Auto     Luxury Car  \n",
      "4  Corporate Auto   Two-Door Car  \n",
      "\n",
      "First few rows of file3:\n",
      "  Customer       State  Customer Lifetime Value             Education Gender  \\\n",
      "0  SA25987  Washington              3479.137523  High School or Below      M   \n",
      "1  TB86706     Arizona              2502.637401                Master      M   \n",
      "2  ZL73902      Nevada              3265.156348              Bachelor      F   \n",
      "3  KX23516  California              4455.843406  High School or Below      F   \n",
      "4  FN77294  California              7704.958480  High School or Below      M   \n",
      "\n",
      "   Income  Monthly Premium Auto  Number of Open Complaints    Policy Type  \\\n",
      "0       0                   104                          0  Personal Auto   \n",
      "1       0                    66                          0  Personal Auto   \n",
      "2   25820                    82                          0  Personal Auto   \n",
      "3       0                   121                          0  Personal Auto   \n",
      "4   30366                   101                          2  Personal Auto   \n",
      "\n",
      "   Total Claim Amount  Vehicle Class  \n",
      "0          499.200000   Two-Door Car  \n",
      "1            3.468912   Two-Door Car  \n",
      "2          393.600000  Four-Door Car  \n",
      "3          699.615192            SUV  \n",
      "4          484.800000            SUV  \n"
     ]
    }
   ],
   "source": [
    "import pandas as pd\n",
    "\n",
    "# Load the three datasets\n",
    "df1 = pd.read_csv(\"https://raw.githubusercontent.com/data-bootcamp-v4/data/main/file1.csv\")\n",
    "df2 = pd.read_csv(\"https://raw.githubusercontent.com/data-bootcamp-v4/data/main/file2.csv\")\n",
    "df3 = pd.read_csv(\"https://raw.githubusercontent.com/data-bootcamp-v4/data/main/file3.csv\")\n",
    "\n",
    "# Check the first few rows of each dataset\n",
    "print(\"First few rows of file1:\")\n",
    "print(df1.head())\n",
    "\n",
    "print(\"\\nFirst few rows of file2:\")\n",
    "print(df2.head())\n",
    "\n",
    "print(\"\\nFirst few rows of file3:\")\n",
    "print(df3.head())\n"
   ]
  },
  {
   "cell_type": "code",
   "execution_count": 22,
   "id": "d75ec4a9-bb19-4cbb-b342-e99085dfe769",
   "metadata": {},
   "outputs": [
    {
     "name": "stdout",
     "output_type": "stream",
     "text": [
      "First few rows of the combined dataset:\n",
      "  Customer          ST GENDER             Education Customer Lifetime Value  \\\n",
      "0  RB50392  Washington    NaN                Master                     NaN   \n",
      "1  QZ44356     Arizona      F              Bachelor              697953.59%   \n",
      "2  AI49188      Nevada      F              Bachelor             1288743.17%   \n",
      "3  WW63253  California      M              Bachelor              764586.18%   \n",
      "4  GA49547  Washington      M  High School or Below              536307.65%   \n",
      "\n",
      "    Income  Monthly Premium Auto Number of Open Complaints     Policy Type  \\\n",
      "0      0.0                1000.0                    1/0/00   Personal Auto   \n",
      "1      0.0                  94.0                    1/0/00   Personal Auto   \n",
      "2  48767.0                 108.0                    1/0/00   Personal Auto   \n",
      "3      0.0                 106.0                    1/0/00  Corporate Auto   \n",
      "4  36357.0                  68.0                    1/0/00   Personal Auto   \n",
      "\n",
      "   Vehicle Class  Total Claim Amount State Gender  \n",
      "0  Four-Door Car            2.704934   NaN    NaN  \n",
      "1  Four-Door Car         1131.464935   NaN    NaN  \n",
      "2   Two-Door Car          566.472247   NaN    NaN  \n",
      "3            SUV          529.881344   NaN    NaN  \n",
      "4  Four-Door Car           17.269323   NaN    NaN  \n",
      "\n",
      "Structure of the combined dataset:\n",
      "<class 'pandas.core.frame.DataFrame'>\n",
      "RangeIndex: 12074 entries, 0 to 12073\n",
      "Data columns (total 13 columns):\n",
      " #   Column                     Non-Null Count  Dtype  \n",
      "---  ------                     --------------  -----  \n",
      " 0   Customer                   9137 non-null   object \n",
      " 1   ST                         2067 non-null   object \n",
      " 2   GENDER                     1945 non-null   object \n",
      " 3   Education                  9137 non-null   object \n",
      " 4   Customer Lifetime Value    9130 non-null   object \n",
      " 5   Income                     9137 non-null   float64\n",
      " 6   Monthly Premium Auto       9137 non-null   float64\n",
      " 7   Number of Open Complaints  9137 non-null   object \n",
      " 8   Policy Type                9137 non-null   object \n",
      " 9   Vehicle Class              9137 non-null   object \n",
      " 10  Total Claim Amount         9137 non-null   float64\n",
      " 11  State                      7070 non-null   object \n",
      " 12  Gender                     7070 non-null   object \n",
      "dtypes: float64(3), object(10)\n",
      "memory usage: 1.2+ MB\n",
      "None\n"
     ]
    }
   ],
   "source": [
    "# Combine the three datasets into a single DataFrame\n",
    "combined_df = pd.concat([df1, df2, df3], ignore_index=True)\n",
    "\n",
    "# Check the first few rows of the combined DataFrame\n",
    "print(\"First few rows of the combined dataset:\")\n",
    "print(combined_df.head())\n",
    "\n",
    "# Check the structure of the combined DataFrame\n",
    "print(\"\\nStructure of the combined dataset:\")\n",
    "print(combined_df.info())\n"
   ]
  },
  {
   "cell_type": "code",
   "execution_count": 23,
   "id": "04569efc-f661-4bb6-bc84-13207849a4d6",
   "metadata": {},
   "outputs": [
    {
     "name": "stdout",
     "output_type": "stream",
     "text": [
      "First few rows after cleaning:\n",
      "  Customer          ST GENDER             Education  Customer Lifetime Value  \\\n",
      "0  RB50392  Washington    NaN                Master                      NaN   \n",
      "1  QZ44356     Arizona      F              Bachelor                697953.59   \n",
      "2  AI49188      Nevada      F              Bachelor               1288743.17   \n",
      "3  WW63253  California      M              Bachelor                764586.18   \n",
      "4  GA49547  Washington      M  High School or Below                536307.65   \n",
      "\n",
      "    Income  Monthly Premium Auto Number of Open Complaints     Policy Type  \\\n",
      "0      0.0                1000.0                    1/0/00   Personal Auto   \n",
      "1      0.0                  94.0                    1/0/00   Personal Auto   \n",
      "2  48767.0                 108.0                    1/0/00   Personal Auto   \n",
      "3      0.0                 106.0                    1/0/00  Corporate Auto   \n",
      "4  36357.0                  68.0                    1/0/00   Personal Auto   \n",
      "\n",
      "   Vehicle Class  Total Claim Amount State Gender  \n",
      "0  Four-Door Car            2.704934   NaN    NaN  \n",
      "1  Four-Door Car         1131.464935   NaN    NaN  \n",
      "2   Two-Door Car          566.472247   NaN    NaN  \n",
      "3            SUV          529.881344   NaN    NaN  \n",
      "4  Four-Door Car           17.269323   NaN    NaN  \n",
      "\n",
      "Structure after cleaning:\n",
      "<class 'pandas.core.frame.DataFrame'>\n",
      "RangeIndex: 12074 entries, 0 to 12073\n",
      "Data columns (total 13 columns):\n",
      " #   Column                     Non-Null Count  Dtype  \n",
      "---  ------                     --------------  -----  \n",
      " 0   Customer                   9137 non-null   object \n",
      " 1   ST                         2067 non-null   object \n",
      " 2   GENDER                     1945 non-null   object \n",
      " 3   Education                  9137 non-null   object \n",
      " 4   Customer Lifetime Value    2060 non-null   float64\n",
      " 5   Income                     9137 non-null   float64\n",
      " 6   Monthly Premium Auto       9137 non-null   float64\n",
      " 7   Number of Open Complaints  9137 non-null   object \n",
      " 8   Policy Type                9137 non-null   object \n",
      " 9   Vehicle Class              9137 non-null   object \n",
      " 10  Total Claim Amount         9137 non-null   float64\n",
      " 11  State                      7070 non-null   object \n",
      " 12  Gender                     7070 non-null   object \n",
      "dtypes: float64(4), object(9)\n",
      "memory usage: 1.2+ MB\n"
     ]
    },
    {
     "data": {
      "text/plain": [
       "None"
      ]
     },
     "metadata": {},
     "output_type": "display_data"
    }
   ],
   "source": [
    "combined_df['GENDER'] = combined_df['GENDER'].str.strip().str.lower()\n",
    "combined_df['GENDER'] = combined_df['GENDER'].replace({'female': 'F', 'f': 'F', 'femal': 'F', 'male': 'M', 'm': 'M'})\n",
    "\n",
    "state_replacements = {\n",
    "    'AZ': 'Arizona',\n",
    "    'Cali': 'California',\n",
    "    'WA': 'Washington'\n",
    "}\n",
    "combined_df['ST'] = combined_df['ST'].replace(state_replacements)\n",
    "\n",
    "combined_df['Education'] = combined_df['Education'].replace({'Bachelors': 'Bachelor'})\n",
    "\n",
    "combined_df['Customer Lifetime Value'] = combined_df['Customer Lifetime Value'].str.replace('%', '', regex=True).astype(float)\n",
    "\n",
    "vehicle_replacements = {\n",
    "    'Sports Car': 'Luxury',\n",
    "    'Luxury SUV': 'Luxury',\n",
    "    'Luxury Car': 'Luxury'\n",
    "}\n",
    "combined_df['Vehicle Class'] = combined_df['Vehicle Class'].replace(vehicle_replacements)\n",
    "\n",
    "print(\"First few rows after cleaning:\")\n",
    "print(combined_df.head())\n",
    "\n",
    "print(\"\\nStructure after cleaning:\")\n",
    "display(combined_df.info())\n"
   ]
  },
  {
   "cell_type": "code",
   "execution_count": 27,
   "id": "7b5099b8-fba4-45b9-9f90-eacd177ca06c",
   "metadata": {
    "scrolled": true
   },
   "outputs": [
    {
     "name": "stdout",
     "output_type": "stream",
     "text": [
      "Checking for null values after cleaning:\n",
      "Customer                      2937\n",
      "ST                           10007\n",
      "GENDER                       10129\n",
      "Education                     2937\n",
      "Customer Lifetime Value      10014\n",
      "Income                        2937\n",
      "Monthly Premium Auto          2937\n",
      "Number of Open Complaints     2937\n",
      "Policy Type                   2937\n",
      "Vehicle Class                 2937\n",
      "Total Claim Amount            2937\n",
      "State                         5004\n",
      "Gender                        5004\n",
      "dtype: int64\n",
      "The cleaned and combined dataset has been saved to 'cleaned_combined_dataset.csv'.\n"
     ]
    }
   ],
   "source": [
    "print(\"Checking for null values after cleaning:\")\n",
    "print(combined_df.isnull().sum())\n",
    "\n",
    "combined_df.to_csv('cleaned_combined_dataset.csv', index=False)\n",
    "print(\"The cleaned and combined dataset has been saved to 'cleaned_combined_dataset.csv'.\")\n"
   ]
  },
  {
   "cell_type": "markdown",
   "id": "31b8a9e7-7db9-4604-991b-ef6771603e57",
   "metadata": {
    "id": "31b8a9e7-7db9-4604-991b-ef6771603e57"
   },
   "source": [
    "# Challenge 2: Structuring Data"
   ]
  },
  {
   "cell_type": "markdown",
   "id": "a877fd6d-7a0c-46d2-9657-f25036e4ca4b",
   "metadata": {
    "id": "a877fd6d-7a0c-46d2-9657-f25036e4ca4b"
   },
   "source": [
    "In this challenge, we will continue to work with customer data from an insurance company, but we will use a dataset with more columns, called marketing_customer_analysis.csv, which can be found at the following link:\n",
    "\n",
    "https://raw.githubusercontent.com/data-bootcamp-v4/data/main/marketing_customer_analysis_clean.csv\n",
    "\n",
    "This dataset contains information such as customer demographics, policy details, vehicle information, and the customer's response to the last marketing campaign. Our goal is to explore and analyze this data by performing data cleaning, formatting, and structuring."
   ]
  },
  {
   "cell_type": "markdown",
   "id": "df35fd0d-513e-4e77-867e-429da10a9cc7",
   "metadata": {
    "id": "df35fd0d-513e-4e77-867e-429da10a9cc7"
   },
   "source": [
    "1. You work at the marketing department and you want to know which sales channel brought the most sales in terms of total revenue. Using pivot, create a summary table showing the total revenue for each sales channel (branch, call center, web, and mail).\n",
    "Round the total revenue to 2 decimal points.  Analyze the resulting table to draw insights."
   ]
  },
  {
   "cell_type": "markdown",
   "id": "640993b2-a291-436c-a34d-a551144f8196",
   "metadata": {
    "id": "640993b2-a291-436c-a34d-a551144f8196"
   },
   "source": [
    "2. Create a pivot table that shows the average customer lifetime value per gender and education level. Analyze the resulting table to draw insights."
   ]
  },
  {
   "cell_type": "code",
   "execution_count": 102,
   "id": "8117a84e-1e50-428e-a6a2-a87bc65da0ce",
   "metadata": {},
   "outputs": [
    {
     "name": "stdout",
     "output_type": "stream",
     "text": [
      "Column names in the dataset:\n",
      "Index(['unnamed:_0', 'customer', 'state', 'customer_lifetime_value',\n",
      "       'response', 'coverage', 'education', 'effective_to_date',\n",
      "       'employmentstatus', 'gender', 'income', 'location_code',\n",
      "       'marital_status', 'monthly_premium_auto', 'months_since_last_claim',\n",
      "       'months_since_policy_inception', 'number_of_open_complaints',\n",
      "       'number_of_policies', 'policy_type', 'policy', 'renew_offer_type',\n",
      "       'sales_channel', 'total_claim_amount', 'vehicle_class', 'vehicle_size',\n",
      "       'vehicle_type', 'month'],\n",
      "      dtype='object')\n",
      "\n",
      "First few rows of the dataset:\n",
      "   unnamed:_0 customer       state  customer_lifetime_value response  \\\n",
      "0           0  DK49336     Arizona              4809.216960       No   \n",
      "1           1  KX64629  California              2228.525238       No   \n",
      "2           2  LZ68649  Washington             14947.917300       No   \n",
      "3           3  XL78013      Oregon             22332.439460      Yes   \n",
      "4           4  QA50777      Oregon              9025.067525       No   \n",
      "\n",
      "   coverage education effective_to_date employmentstatus gender  ...  \\\n",
      "0     Basic   College        2011-02-18         Employed      M  ...   \n",
      "1     Basic   College        2011-01-18       Unemployed      F  ...   \n",
      "2     Basic  Bachelor        2011-02-10         Employed      M  ...   \n",
      "3  Extended   College        2011-01-11         Employed      M  ...   \n",
      "4   Premium  Bachelor        2011-01-17    Medical Leave      F  ...   \n",
      "\n",
      "   number_of_policies     policy_type        policy  renew_offer_type  \\\n",
      "0                   9  Corporate Auto  Corporate L3            Offer3   \n",
      "1                   1   Personal Auto   Personal L3            Offer4   \n",
      "2                   2   Personal Auto   Personal L3            Offer3   \n",
      "3                   2  Corporate Auto  Corporate L3            Offer2   \n",
      "4                   7   Personal Auto   Personal L2            Offer1   \n",
      "\n",
      "   sales_channel  total_claim_amount  vehicle_class  vehicle_size  \\\n",
      "0          Agent          292.800000  Four-Door Car       Medsize   \n",
      "1    Call Center          744.924331  Four-Door Car       Medsize   \n",
      "2    Call Center          480.000000            SUV       Medsize   \n",
      "3         Branch          484.013411  Four-Door Car       Medsize   \n",
      "4         Branch          707.925645  Four-Door Car       Medsize   \n",
      "\n",
      "  vehicle_type month  \n",
      "0            A     2  \n",
      "1            A     1  \n",
      "2            A     2  \n",
      "3            A     1  \n",
      "4            A     1  \n",
      "\n",
      "[5 rows x 27 columns]\n",
      "Columns 'Sales Channel' or 'Total Claim Amount' not found in the dataset. Please check the column names.\n"
     ]
    }
   ],
   "source": [
    "import pandas as pd\n",
    "\n",
    "# Load the dataset\n",
    "df = pd.read_csv(\"https://raw.githubusercontent.com/data-bootcamp-v4/data/main/marketing_customer_analysis_clean.csv\")\n",
    "\n",
    "# Display the actual column names to verify them\n",
    "print(\"Column names in the dataset:\")\n",
    "print(df.columns)\n",
    "\n",
    "# Let's see the first few rows to understand the data better\n",
    "print(\"\\nFirst few rows of the dataset:\")\n",
    "print(df.head())\n",
    "\n",
    "# Identify the correct column names\n",
    "# Assuming you found the correct names based on the previous step\n",
    "# Let's look at the columns related to sales channel and total revenue\n",
    "\n",
    "# Check if the expected columns are in the dataset\n",
    "sales_channel_column = 'Sales Channel'  # Replace with the correct column name from the dataset\n",
    "revenue_column = 'Total Claim Amount'   # Replace with the correct column name from the dataset\n",
    "\n",
    "# Ensure these columns exist in the dataset\n",
    "if sales_channel_column in df.columns and revenue_column in df.columns:\n",
    "    # Create the pivot table showing total revenue for each sales channel\n",
    "    pivot_sales_channel = df.pivot_table(index=sales_channel_column, \n",
    "                                         values=revenue_column, \n",
    "                                         aggfunc='sum')\n",
    "\n",
    "    # Round the total revenue to 2 decimal points\n",
    "    pivot_sales_channel = pivot_sales_channel.round(2)\n",
    "\n",
    "    # Display the pivot table\n",
    "    print(\"\\nTotal Revenue for each Sales Channel:\")\n",
    "    print(pivot_sales_channel)\n",
    "else:\n",
    "    print(f\"Columns '{sales_channel_column}' or '{revenue_column}' not found in the dataset. Please check the column names.\")\n"
   ]
  },
  {
   "cell_type": "markdown",
   "id": "32c7f2e5-3d90-43e5-be33-9781b6069198",
   "metadata": {
    "id": "32c7f2e5-3d90-43e5-be33-9781b6069198"
   },
   "source": [
    "## Bonus\n",
    "\n",
    "You work at the customer service department and you want to know which months had the highest number of complaints by policy type category. Create a summary table showing the number of complaints by policy type and month.\n",
    "Show it in a long format table."
   ]
  },
  {
   "cell_type": "markdown",
   "id": "e3d09a8f-953c-448a-a5f8-2e5a8cca7291",
   "metadata": {
    "id": "e3d09a8f-953c-448a-a5f8-2e5a8cca7291"
   },
   "source": [
    "*In data analysis, a long format table is a way of structuring data in which each observation or measurement is stored in a separate row of the table. The key characteristic of a long format table is that each column represents a single variable, and each row represents a single observation of that variable.*\n",
    "\n",
    "*More information about long and wide format tables here: https://www.statology.org/long-vs-wide-data/*"
   ]
  },
  {
   "cell_type": "code",
   "execution_count": null,
   "id": "3a069e0b-b400-470e-904d-d17582191be4",
   "metadata": {
    "id": "3a069e0b-b400-470e-904d-d17582191be4"
   },
   "outputs": [],
   "source": [
    "# Your code goes here"
   ]
  }
 ],
 "metadata": {
  "colab": {
   "provenance": []
  },
  "kernelspec": {
   "display_name": "Python 3 (ipykernel)",
   "language": "python",
   "name": "python3"
  },
  "language_info": {
   "codemirror_mode": {
    "name": "ipython",
    "version": 3
   },
   "file_extension": ".py",
   "mimetype": "text/x-python",
   "name": "python",
   "nbconvert_exporter": "python",
   "pygments_lexer": "ipython3",
   "version": "3.12.4"
  }
 },
 "nbformat": 4,
 "nbformat_minor": 5
}
